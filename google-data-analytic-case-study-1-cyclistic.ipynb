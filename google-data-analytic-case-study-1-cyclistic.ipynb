{
 "cells": [
  {
   "cell_type": "code",
   "execution_count": 1,
   "id": "20f1359a",
   "metadata": {
    "_execution_state": "idle",
    "_kg_hide-input": true,
    "_kg_hide-output": true,
    "_uuid": "051d70d956493feee0c6d64651c6a088724dca2a",
    "execution": {
     "iopub.execute_input": "2022-06-08T06:16:05.102679Z",
     "iopub.status.busy": "2022-06-08T06:16:05.100829Z",
     "iopub.status.idle": "2022-06-08T06:16:06.508875Z",
     "shell.execute_reply": "2022-06-08T06:16:06.507156Z"
    },
    "papermill": {
     "duration": 1.417919,
     "end_time": "2022-06-08T06:16:06.511621",
     "exception": false,
     "start_time": "2022-06-08T06:16:05.093702",
     "status": "completed"
    },
    "tags": []
   },
   "outputs": [
    {
     "name": "stderr",
     "output_type": "stream",
     "text": [
      "── \u001b[1mAttaching packages\u001b[22m ─────────────────────────────────────── tidyverse 1.3.1 ──\n",
      "\n",
      "\u001b[32m✔\u001b[39m \u001b[34mggplot2\u001b[39m 3.3.5     \u001b[32m✔\u001b[39m \u001b[34mpurrr  \u001b[39m 0.3.4\n",
      "\u001b[32m✔\u001b[39m \u001b[34mtibble \u001b[39m 3.1.6     \u001b[32m✔\u001b[39m \u001b[34mdplyr  \u001b[39m 1.0.8\n",
      "\u001b[32m✔\u001b[39m \u001b[34mtidyr  \u001b[39m 1.2.0     \u001b[32m✔\u001b[39m \u001b[34mstringr\u001b[39m 1.4.0\n",
      "\u001b[32m✔\u001b[39m \u001b[34mreadr  \u001b[39m 2.1.2     \u001b[32m✔\u001b[39m \u001b[34mforcats\u001b[39m 0.5.1\n",
      "\n",
      "── \u001b[1mConflicts\u001b[22m ────────────────────────────────────────── tidyverse_conflicts() ──\n",
      "\u001b[31m✖\u001b[39m \u001b[34mdplyr\u001b[39m::\u001b[32mfilter()\u001b[39m masks \u001b[34mstats\u001b[39m::filter()\n",
      "\u001b[31m✖\u001b[39m \u001b[34mdplyr\u001b[39m::\u001b[32mlag()\u001b[39m    masks \u001b[34mstats\u001b[39m::lag()\n",
      "\n"
     ]
    },
    {
     "data": {
      "text/html": [
       "'cyclistic-data-may-2021-may-2022'"
      ],
      "text/latex": [
       "'cyclistic-data-may-2021-may-2022'"
      ],
      "text/markdown": [
       "'cyclistic-data-may-2021-may-2022'"
      ],
      "text/plain": [
       "[1] \"cyclistic-data-may-2021-may-2022\""
      ]
     },
     "metadata": {},
     "output_type": "display_data"
    }
   ],
   "source": [
    "# This R environment comes with many helpful analytics packages installed\n",
    "# It is defined by the kaggle/rstats Docker image: https://github.com/kaggle/docker-rstats\n",
    "# For example, here's a helpful package to load\n",
    "\n",
    "library(tidyverse) # metapackage of all tidyverse packages\n",
    "\n",
    "# Input data files are available in the read-only \"../input/\" directory\n",
    "# For example, running this (by clicking run or pressing Shift+Enter) will list all files under the input directory\n",
    "\n",
    "list.files(path = \"../input\")\n",
    "\n",
    "# You can write up to 20GB to the current directory (/kaggle/working/) that gets preserved as output when you create a version using \"Save & Run All\" \n",
    "# You can also write temporary files to /kaggle/temp/, but they won't be saved outside of the current session"
   ]
  },
  {
   "cell_type": "markdown",
   "id": "ab7b0621",
   "metadata": {
    "papermill": {
     "duration": 0.004458,
     "end_time": "2022-06-08T06:16:06.520880",
     "exception": false,
     "start_time": "2022-06-08T06:16:06.516422",
     "status": "completed"
    },
    "tags": []
   },
   "source": [
    "### This is an exercise notebook for my first ever Data Analysis Case Study\n",
    "\n",
    "Kindly be aware that this case study is part of Google Data Analytic Capstone Project. For this particular notebook, I would like to show all of my thought process as someone who is new to data analysis. You can look at the notebook as a diary log as I'd write down any question that comes to mind. This notebook may not have elaborated explanation for beginners to learn from, but I hope for more seasoned data analyst who view this notebook to leave any comment for any shortfall or may suggest any improvement that can be done for my future learning. Thanks!\n",
    "\n",
    "**Side note: This will as well be the experimental notebook for myself to play around with Kaggle for the first time and explore the case study.** With full honesty, since this is my first time performing data analysis, I refer to a lot other published codes and google in order to help myself along the way. In no way am I trying to plagirize anyone's work, if there is a way for me to credit them please do let me know so I can do so."
   ]
  },
  {
   "cell_type": "markdown",
   "id": "d6c8cf75",
   "metadata": {
    "papermill": {
     "duration": 0.0044,
     "end_time": "2022-06-08T06:16:06.529671",
     "exception": false,
     "start_time": "2022-06-08T06:16:06.525271",
     "status": "completed"
    },
    "tags": []
   },
   "source": [
    "<head><center><h2>CASE STUDY SCENARIO</h2><center>\n",
    "    <center><h4>You are a junior data analyst working in the marketing analyst team at Cyclistic, a bike-share company in Chicago. The director\n",
    "of marketing believes the company’s future success depends on maximizing the number of annual memberships. Therefore,\n",
    "your team wants to understand how casual riders and annual members use Cyclistic bikes differently. From these insights,\n",
    "your team will design a new marketing strategy to convert casual riders into annual members. But first, Cyclistic executives\n",
    "must approve your recommendations, so they must be backed up with compelling data insights and professional data\n",
    "        visualizations.</h4><center></head>\n",
    "        <br>"
   ]
  },
  {
   "cell_type": "markdown",
   "id": "25d804bb",
   "metadata": {
    "papermill": {
     "duration": 0.004623,
     "end_time": "2022-06-08T06:16:06.539151",
     "exception": false,
     "start_time": "2022-06-08T06:16:06.534528",
     "status": "completed"
    },
    "tags": []
   },
   "source": [
    "## STEP 1: ASK\n",
    "\n",
    "Insight: I am working as a Junior Data Analyst and requires to assist the team to construct a new marketing strategy. The burning question would be **How casual riders and annual members use Cyclistic bikes differently?** The analysis from the data should help the team to target their marketing on the casual riders to subscribe for a membership in order to help the company to gain more profit.\n",
    "        \n",
    "Now that we have the BIG QUESTION laid out, let's take a look at the data we have and what can we do with the data. In order to do that, we will use R as a tool for the analysis."
   ]
  },
  {
   "cell_type": "markdown",
   "id": "f380470d",
   "metadata": {
    "papermill": {
     "duration": 0.004384,
     "end_time": "2022-06-08T06:16:06.549373",
     "exception": false,
     "start_time": "2022-06-08T06:16:06.544989",
     "status": "completed"
    },
    "tags": []
   },
   "source": [
    "## STEP 2: PREPARE\n",
    "\n",
    "For this step, I will load the CSV files that we received and look into the data structure. We will analyze, clean up and combine the data into a single data source for easier workability."
   ]
  },
  {
   "cell_type": "code",
   "execution_count": 2,
   "id": "c0e8ccf1",
   "metadata": {
    "execution": {
     "iopub.execute_input": "2022-06-08T06:16:06.588033Z",
     "iopub.status.busy": "2022-06-08T06:16:06.559746Z",
     "iopub.status.idle": "2022-06-08T06:16:06.621773Z",
     "shell.execute_reply": "2022-06-08T06:16:06.620024Z"
    },
    "papermill": {
     "duration": 0.070302,
     "end_time": "2022-06-08T06:16:06.624002",
     "exception": false,
     "start_time": "2022-06-08T06:16:06.553700",
     "status": "completed"
    },
    "tags": []
   },
   "outputs": [
    {
     "name": "stderr",
     "output_type": "stream",
     "text": [
      "\n",
      "Attaching package: ‘lubridate’\n",
      "\n",
      "\n",
      "The following objects are masked from ‘package:base’:\n",
      "\n",
      "    date, intersect, setdiff, union\n",
      "\n",
      "\n"
     ]
    }
   ],
   "source": [
    "#First of all, let's import the neccessary libraries into R for the analysis\n",
    "\n",
    "library(\"tidyverse\")\n",
    "library(\"ggplot2\")\n",
    "library(\"lubridate\")\n",
    "library(\"dplyr\")"
   ]
  },
  {
   "cell_type": "code",
   "execution_count": 3,
   "id": "7692584e",
   "metadata": {
    "execution": {
     "iopub.execute_input": "2022-06-08T06:16:06.636308Z",
     "iopub.status.busy": "2022-06-08T06:16:06.634886Z",
     "iopub.status.idle": "2022-06-08T06:17:45.404411Z",
     "shell.execute_reply": "2022-06-08T06:17:45.402617Z"
    },
    "papermill": {
     "duration": 98.778965,
     "end_time": "2022-06-08T06:17:45.407570",
     "exception": false,
     "start_time": "2022-06-08T06:16:06.628605",
     "status": "completed"
    },
    "tags": []
   },
   "outputs": [],
   "source": [
    "#Now we will import the data and assign as variables respectively\n",
    "\n",
    "tripdata_2021_05 <- read.csv(\"../input/cyclistic-data-may-2021-may-2022/202105-divvy-tripdata.csv\")\n",
    "tripdata_2021_06 <- read.csv(\"../input/cyclistic-data-may-2021-may-2022/202106-divvy-tripdata.csv\")\n",
    "tripdata_2021_07 <- read.csv(\"../input/cyclistic-data-may-2021-may-2022/202107-divvy-tripdata.csv\")\n",
    "tripdata_2021_08 <- read.csv(\"../input/cyclistic-data-may-2021-may-2022/202108-divvy-tripdata.csv\")\n",
    "tripdata_2021_09 <- read.csv(\"../input/cyclistic-data-may-2021-may-2022/202109-divvy-tripdata.csv\")\n",
    "tripdata_2021_10 <- read.csv(\"../input/cyclistic-data-may-2021-may-2022/202110-divvy-tripdata.csv\")\n",
    "tripdata_2021_11 <- read.csv(\"../input/cyclistic-data-may-2021-may-2022/202111-divvy-tripdata.csv\")\n",
    "tripdata_2021_12 <- read.csv(\"../input/cyclistic-data-may-2021-may-2022/202112-divvy-tripdata.csv\")\n",
    "tripdata_2022_01 <- read.csv(\"../input/cyclistic-data-may-2021-may-2022/202201-divvy-tripdata.csv\")\n",
    "tripdata_2022_02 <- read.csv(\"../input/cyclistic-data-may-2021-may-2022/202202-divvy-tripdata.csv\")\n",
    "tripdata_2022_03 <- read.csv(\"../input/cyclistic-data-may-2021-may-2022/202203-divvy-tripdata.csv\")\n",
    "tripdata_2022_04 <- read.csv(\"../input/cyclistic-data-may-2021-may-2022/202204-divvy-tripdata.csv\")"
   ]
  },
  {
   "attachments": {
    "8a115780-a399-4e6a-8809-4852d287a153.png": {
     "image/png": "[encoded data removed]"
    }
   },
   "cell_type": "markdown",
   "id": "a6535194",
   "metadata": {
    "papermill": {
     "duration": 0.005174,
     "end_time": "2022-06-08T06:17:45.421363",
     "exception": false,
     "start_time": "2022-06-08T06:17:45.416189",
     "status": "completed"
    },
    "tags": []
   },
   "source": [
    "Before we go further to combining the data set into a single source, I wanted to make sure that all files have the same data structure (column names, column arrangement and so on). My method of doing so is by opening up each CSV files using excel and check the column title one by one. If there are any other ways to do so (using R) please share it with me! Below is the outcome for this process.\n",
    "\n",
    "![image.png](attachment:8a115780-a399-4e6a-8809-4852d287a153.png)\n",
    "\n",
    "From the above, we can see that each data set have the same column title and are ready to be combined straight away."
   ]
  },
  {
   "cell_type": "code",
   "execution_count": 4,
   "id": "b8259162",
   "metadata": {
    "execution": {
     "iopub.execute_input": "2022-06-08T06:17:45.433602Z",
     "iopub.status.busy": "2022-06-08T06:17:45.432102Z",
     "iopub.status.idle": "2022-06-08T06:17:59.929346Z",
     "shell.execute_reply": "2022-06-08T06:17:59.927628Z"
    },
    "papermill": {
     "duration": 14.50593,
     "end_time": "2022-06-08T06:17:59.931870",
     "exception": false,
     "start_time": "2022-06-08T06:17:45.425940",
     "status": "completed"
    },
    "tags": []
   },
   "outputs": [],
   "source": [
    "#Now let's combine all the data set into a single data set\n",
    "\n",
    "all_tripdata <- bind_rows(tripdata_2021_05, tripdata_2021_06, tripdata_2021_07, tripdata_2021_08, tripdata_2021_09, tripdata_2021_10, tripdata_2021_11, tripdata_2021_12, tripdata_2022_01, tripdata_2022_02, tripdata_2022_03, tripdata_2022_04)\n",
    "\n",
    "#Running the above code should combine all data sets into a single data sets under the variable all_tripdata"
   ]
  },
  {
   "cell_type": "code",
   "execution_count": 5,
   "id": "acf01bcd",
   "metadata": {
    "execution": {
     "iopub.execute_input": "2022-06-08T06:17:59.944038Z",
     "iopub.status.busy": "2022-06-08T06:17:59.942584Z",
     "iopub.status.idle": "2022-06-08T06:17:59.971388Z",
     "shell.execute_reply": "2022-06-08T06:17:59.969790Z"
    },
    "papermill": {
     "duration": 0.036975,
     "end_time": "2022-06-08T06:17:59.973473",
     "exception": false,
     "start_time": "2022-06-08T06:17:59.936498",
     "status": "completed"
    },
    "tags": []
   },
   "outputs": [
    {
     "data": {
      "text/html": [
       "<table class=\"dataframe\">\n",
       "<caption>A data.frame: 5 × 13</caption>\n",
       "<thead>\n",
       "\t<tr><th></th><th scope=col>ride_id</th><th scope=col>rideable_type</th><th scope=col>started_at</th><th scope=col>ended_at</th><th scope=col>start_station_name</th><th scope=col>start_station_id</th><th scope=col>end_station_name</th><th scope=col>end_station_id</th><th scope=col>start_lat</th><th scope=col>start_lng</th><th scope=col>end_lat</th><th scope=col>end_lng</th><th scope=col>member_casual</th></tr>\n",
       "\t<tr><th></th><th scope=col>&lt;chr&gt;</th><th scope=col>&lt;chr&gt;</th><th scope=col>&lt;chr&gt;</th><th scope=col>&lt;chr&gt;</th><th scope=col>&lt;chr&gt;</th><th scope=col>&lt;chr&gt;</th><th scope=col>&lt;chr&gt;</th><th scope=col>&lt;chr&gt;</th><th scope=col>&lt;dbl&gt;</th><th scope=col>&lt;dbl&gt;</th><th scope=col>&lt;dbl&gt;</th><th scope=col>&lt;dbl&gt;</th><th scope=col>&lt;chr&gt;</th></tr>\n",
       "</thead>\n",
       "<tbody>\n",
       "\t<tr><th scope=row>1</th><td>C809ED75D6160B2A</td><td>electric_bike</td><td>2021-05-30 11:58:15</td><td>2021-05-30 12:10:39</td><td></td><td></td><td></td><td></td><td>41.90</td><td>-87.63</td><td>41.89</td><td>-87.61</td><td>casual</td></tr>\n",
       "\t<tr><th scope=row>2</th><td>DD59FDCE0ACACAF3</td><td>electric_bike</td><td>2021-05-30 11:29:14</td><td>2021-05-30 12:14:09</td><td></td><td></td><td></td><td></td><td>41.88</td><td>-87.62</td><td>41.79</td><td>-87.58</td><td>casual</td></tr>\n",
       "\t<tr><th scope=row>3</th><td>0AB83CB88C43EFC2</td><td>electric_bike</td><td>2021-05-30 14:24:01</td><td>2021-05-30 14:25:13</td><td></td><td></td><td></td><td></td><td>41.92</td><td>-87.70</td><td>41.92</td><td>-87.70</td><td>casual</td></tr>\n",
       "\t<tr><th scope=row>4</th><td>7881AC6D39110C60</td><td>electric_bike</td><td>2021-05-30 14:25:51</td><td>2021-05-30 14:41:04</td><td></td><td></td><td></td><td></td><td>41.92</td><td>-87.70</td><td>41.94</td><td>-87.69</td><td>casual</td></tr>\n",
       "\t<tr><th scope=row>5</th><td>853FA701B4582BAF</td><td>electric_bike</td><td>2021-05-30 18:15:39</td><td>2021-05-30 18:22:32</td><td></td><td></td><td></td><td></td><td>41.94</td><td>-87.69</td><td>41.94</td><td>-87.70</td><td>casual</td></tr>\n",
       "</tbody>\n",
       "</table>\n"
      ],
      "text/latex": [
       "A data.frame: 5 × 13\n",
       "\\begin{tabular}{r|lllllllllllll}\n",
       "  & ride\\_id & rideable\\_type & started\\_at & ended\\_at & start\\_station\\_name & start\\_station\\_id & end\\_station\\_name & end\\_station\\_id & start\\_lat & start\\_lng & end\\_lat & end\\_lng & member\\_casual\\\\\n",
       "  & <chr> & <chr> & <chr> & <chr> & <chr> & <chr> & <chr> & <chr> & <dbl> & <dbl> & <dbl> & <dbl> & <chr>\\\\\n",
       "\\hline\n",
       "\t1 & C809ED75D6160B2A & electric\\_bike & 2021-05-30 11:58:15 & 2021-05-30 12:10:39 &  &  &  &  & 41.90 & -87.63 & 41.89 & -87.61 & casual\\\\\n",
       "\t2 & DD59FDCE0ACACAF3 & electric\\_bike & 2021-05-30 11:29:14 & 2021-05-30 12:14:09 &  &  &  &  & 41.88 & -87.62 & 41.79 & -87.58 & casual\\\\\n",
       "\t3 & 0AB83CB88C43EFC2 & electric\\_bike & 2021-05-30 14:24:01 & 2021-05-30 14:25:13 &  &  &  &  & 41.92 & -87.70 & 41.92 & -87.70 & casual\\\\\n",
       "\t4 & 7881AC6D39110C60 & electric\\_bike & 2021-05-30 14:25:51 & 2021-05-30 14:41:04 &  &  &  &  & 41.92 & -87.70 & 41.94 & -87.69 & casual\\\\\n",
       "\t5 & 853FA701B4582BAF & electric\\_bike & 2021-05-30 18:15:39 & 2021-05-30 18:22:32 &  &  &  &  & 41.94 & -87.69 & 41.94 & -87.70 & casual\\\\\n",
       "\\end{tabular}\n"
      ],
      "text/markdown": [
       "\n",
       "A data.frame: 5 × 13\n",
       "\n",
       "| <!--/--> | ride_id &lt;chr&gt; | rideable_type &lt;chr&gt; | started_at &lt;chr&gt; | ended_at &lt;chr&gt; | start_station_name &lt;chr&gt; | start_station_id &lt;chr&gt; | end_station_name &lt;chr&gt; | end_station_id &lt;chr&gt; | start_lat &lt;dbl&gt; | start_lng &lt;dbl&gt; | end_lat &lt;dbl&gt; | end_lng &lt;dbl&gt; | member_casual &lt;chr&gt; |\n",
       "|---|---|---|---|---|---|---|---|---|---|---|---|---|---|\n",
       "| 1 | C809ED75D6160B2A | electric_bike | 2021-05-30 11:58:15 | 2021-05-30 12:10:39 | <!----> | <!----> | <!----> | <!----> | 41.90 | -87.63 | 41.89 | -87.61 | casual |\n",
       "| 2 | DD59FDCE0ACACAF3 | electric_bike | 2021-05-30 11:29:14 | 2021-05-30 12:14:09 | <!----> | <!----> | <!----> | <!----> | 41.88 | -87.62 | 41.79 | -87.58 | casual |\n",
       "| 3 | 0AB83CB88C43EFC2 | electric_bike | 2021-05-30 14:24:01 | 2021-05-30 14:25:13 | <!----> | <!----> | <!----> | <!----> | 41.92 | -87.70 | 41.92 | -87.70 | casual |\n",
       "| 4 | 7881AC6D39110C60 | electric_bike | 2021-05-30 14:25:51 | 2021-05-30 14:41:04 | <!----> | <!----> | <!----> | <!----> | 41.92 | -87.70 | 41.94 | -87.69 | casual |\n",
       "| 5 | 853FA701B4582BAF | electric_bike | 2021-05-30 18:15:39 | 2021-05-30 18:22:32 | <!----> | <!----> | <!----> | <!----> | 41.94 | -87.69 | 41.94 | -87.70 | casual |\n",
       "\n"
      ],
      "text/plain": [
       "  ride_id          rideable_type started_at          ended_at           \n",
       "1 C809ED75D6160B2A electric_bike 2021-05-30 11:58:15 2021-05-30 12:10:39\n",
       "2 DD59FDCE0ACACAF3 electric_bike 2021-05-30 11:29:14 2021-05-30 12:14:09\n",
       "3 0AB83CB88C43EFC2 electric_bike 2021-05-30 14:24:01 2021-05-30 14:25:13\n",
       "4 7881AC6D39110C60 electric_bike 2021-05-30 14:25:51 2021-05-30 14:41:04\n",
       "5 853FA701B4582BAF electric_bike 2021-05-30 18:15:39 2021-05-30 18:22:32\n",
       "  start_station_name start_station_id end_station_name end_station_id start_lat\n",
       "1                                                                     41.90    \n",
       "2                                                                     41.88    \n",
       "3                                                                     41.92    \n",
       "4                                                                     41.92    \n",
       "5                                                                     41.94    \n",
       "  start_lng end_lat end_lng member_casual\n",
       "1 -87.63    41.89   -87.61  casual       \n",
       "2 -87.62    41.79   -87.58  casual       \n",
       "3 -87.70    41.92   -87.70  casual       \n",
       "4 -87.70    41.94   -87.69  casual       \n",
       "5 -87.69    41.94   -87.70  casual       "
      ]
     },
     "metadata": {},
     "output_type": "display_data"
    }
   ],
   "source": [
    "#Let's have a look if all the columns in the dataframe are the same as in the individual CSV\n",
    "\n",
    "head(all_tripdata, 5)"
   ]
  },
  {
   "cell_type": "code",
   "execution_count": 6,
   "id": "cf3164a3",
   "metadata": {
    "execution": {
     "iopub.execute_input": "2022-06-08T06:17:59.986223Z",
     "iopub.status.busy": "2022-06-08T06:17:59.984809Z",
     "iopub.status.idle": "2022-06-08T06:18:00.002858Z",
     "shell.execute_reply": "2022-06-08T06:18:00.000975Z"
    },
    "papermill": {
     "duration": 0.026847,
     "end_time": "2022-06-08T06:18:00.005286",
     "exception": false,
     "start_time": "2022-06-08T06:17:59.978439",
     "status": "completed"
    },
    "tags": []
   },
   "outputs": [
    {
     "data": {
      "text/html": [
       "5757551"
      ],
      "text/latex": [
       "5757551"
      ],
      "text/markdown": [
       "5757551"
      ],
      "text/plain": [
       "[1] 5757551"
      ]
     },
     "metadata": {},
     "output_type": "display_data"
    }
   ],
   "source": [
    "#Now let's check if all the CSVs have been combined into the dataframe\n",
    "\n",
    "nrow(all_tripdata)"
   ]
  },
  {
   "cell_type": "markdown",
   "id": "08be5949",
   "metadata": {
    "papermill": {
     "duration": 0.004861,
     "end_time": "2022-06-08T06:18:00.015016",
     "exception": false,
     "start_time": "2022-06-08T06:18:00.010155",
     "status": "completed"
    },
    "tags": []
   },
   "source": [
    "From the code above we can see that all columns that has been listed above are still intact and our data frame now have 5,757,551. That is a lot of rows. We can verify this by simply checking on each of CSV files and add up.\n",
    "\n",
    "Now that we have all in one place, let's do some preliminary analysis and data cleaning. From the available datas(refer to each columns), what are the data that we can use and how? \n",
    "1. We have different ride type for members vs non-members\n",
    "2. We can know how long riders use Cyclistic for a given ride\n",
    "3. We know on what days of the week do the riders use Cyclistic\n",
    "4. We can know the distant that each rider use which might be able to bring insightful discovery.\n",
    "\n",
    "But looking into the latitude and longitude data might be too tricky for my level, so I'm going to go with the first 3 questions.\n",
    "\n",
    "**NOW ONTO THE CLEANING PROCESS**"
   ]
  },
  {
   "cell_type": "markdown",
   "id": "9edea7ba",
   "metadata": {
    "papermill": {
     "duration": 0.004836,
     "end_time": "2022-06-08T06:18:00.024755",
     "exception": false,
     "start_time": "2022-06-08T06:18:00.019919",
     "status": "completed"
    },
    "tags": []
   },
   "source": [
    "## STEP 3 : PROCESS\n",
    "\n",
    "What I'm going to do in this step is to process the data by performing some cleaning. Since I am at the level that I am now, I will delete the unnecessary columns to avoid errors/mistake. The columns that I am going to delete will be\n",
    "* start_station_name\n",
    "* start_station_id\n",
    "* end_station_name\n",
    "* end_station_id\n",
    "* start_lat\n",
    "* start_lng\n",
    "* end_lat\n",
    "* end_lng\n",
    "\n",
    "This can be heartbreaking to some of you! But I want to focus on only the data that I am capable to look into for now. I'm sorry...\n",
    "\n",
    "*Oh those precious data...*"
   ]
  },
  {
   "cell_type": "code",
   "execution_count": 7,
   "id": "009adadb",
   "metadata": {
    "execution": {
     "iopub.execute_input": "2022-06-08T06:18:00.037555Z",
     "iopub.status.busy": "2022-06-08T06:18:00.036031Z",
     "iopub.status.idle": "2022-06-08T06:18:08.643923Z",
     "shell.execute_reply": "2022-06-08T06:18:08.641795Z"
    },
    "papermill": {
     "duration": 8.617391,
     "end_time": "2022-06-08T06:18:08.646929",
     "exception": false,
     "start_time": "2022-06-08T06:18:00.029538",
     "status": "completed"
    },
    "tags": []
   },
   "outputs": [
    {
     "data": {
      "text/html": [
       "<table class=\"dataframe\">\n",
       "<caption>A data.frame: 6 × 5</caption>\n",
       "<thead>\n",
       "\t<tr><th></th><th scope=col>ride_id</th><th scope=col>rideable_type</th><th scope=col>started_at</th><th scope=col>ended_at</th><th scope=col>member_casual</th></tr>\n",
       "\t<tr><th></th><th scope=col>&lt;chr&gt;</th><th scope=col>&lt;chr&gt;</th><th scope=col>&lt;chr&gt;</th><th scope=col>&lt;chr&gt;</th><th scope=col>&lt;chr&gt;</th></tr>\n",
       "</thead>\n",
       "<tbody>\n",
       "\t<tr><th scope=row>1</th><td>C809ED75D6160B2A</td><td>electric_bike</td><td>2021-05-30 11:58:15</td><td>2021-05-30 12:10:39</td><td>casual</td></tr>\n",
       "\t<tr><th scope=row>2</th><td>DD59FDCE0ACACAF3</td><td>electric_bike</td><td>2021-05-30 11:29:14</td><td>2021-05-30 12:14:09</td><td>casual</td></tr>\n",
       "\t<tr><th scope=row>3</th><td>0AB83CB88C43EFC2</td><td>electric_bike</td><td>2021-05-30 14:24:01</td><td>2021-05-30 14:25:13</td><td>casual</td></tr>\n",
       "\t<tr><th scope=row>4</th><td>7881AC6D39110C60</td><td>electric_bike</td><td>2021-05-30 14:25:51</td><td>2021-05-30 14:41:04</td><td>casual</td></tr>\n",
       "\t<tr><th scope=row>5</th><td>853FA701B4582BAF</td><td>electric_bike</td><td>2021-05-30 18:15:39</td><td>2021-05-30 18:22:32</td><td>casual</td></tr>\n",
       "\t<tr><th scope=row>6</th><td>F5E63DFD96B2A737</td><td>electric_bike</td><td>2021-05-30 11:33:41</td><td>2021-05-30 11:57:17</td><td>casual</td></tr>\n",
       "</tbody>\n",
       "</table>\n"
      ],
      "text/latex": [
       "A data.frame: 6 × 5\n",
       "\\begin{tabular}{r|lllll}\n",
       "  & ride\\_id & rideable\\_type & started\\_at & ended\\_at & member\\_casual\\\\\n",
       "  & <chr> & <chr> & <chr> & <chr> & <chr>\\\\\n",
       "\\hline\n",
       "\t1 & C809ED75D6160B2A & electric\\_bike & 2021-05-30 11:58:15 & 2021-05-30 12:10:39 & casual\\\\\n",
       "\t2 & DD59FDCE0ACACAF3 & electric\\_bike & 2021-05-30 11:29:14 & 2021-05-30 12:14:09 & casual\\\\\n",
       "\t3 & 0AB83CB88C43EFC2 & electric\\_bike & 2021-05-30 14:24:01 & 2021-05-30 14:25:13 & casual\\\\\n",
       "\t4 & 7881AC6D39110C60 & electric\\_bike & 2021-05-30 14:25:51 & 2021-05-30 14:41:04 & casual\\\\\n",
       "\t5 & 853FA701B4582BAF & electric\\_bike & 2021-05-30 18:15:39 & 2021-05-30 18:22:32 & casual\\\\\n",
       "\t6 & F5E63DFD96B2A737 & electric\\_bike & 2021-05-30 11:33:41 & 2021-05-30 11:57:17 & casual\\\\\n",
       "\\end{tabular}\n"
      ],
      "text/markdown": [
       "\n",
       "A data.frame: 6 × 5\n",
       "\n",
       "| <!--/--> | ride_id &lt;chr&gt; | rideable_type &lt;chr&gt; | started_at &lt;chr&gt; | ended_at &lt;chr&gt; | member_casual &lt;chr&gt; |\n",
       "|---|---|---|---|---|---|\n",
       "| 1 | C809ED75D6160B2A | electric_bike | 2021-05-30 11:58:15 | 2021-05-30 12:10:39 | casual |\n",
       "| 2 | DD59FDCE0ACACAF3 | electric_bike | 2021-05-30 11:29:14 | 2021-05-30 12:14:09 | casual |\n",
       "| 3 | 0AB83CB88C43EFC2 | electric_bike | 2021-05-30 14:24:01 | 2021-05-30 14:25:13 | casual |\n",
       "| 4 | 7881AC6D39110C60 | electric_bike | 2021-05-30 14:25:51 | 2021-05-30 14:41:04 | casual |\n",
       "| 5 | 853FA701B4582BAF | electric_bike | 2021-05-30 18:15:39 | 2021-05-30 18:22:32 | casual |\n",
       "| 6 | F5E63DFD96B2A737 | electric_bike | 2021-05-30 11:33:41 | 2021-05-30 11:57:17 | casual |\n",
       "\n"
      ],
      "text/plain": [
       "  ride_id          rideable_type started_at          ended_at           \n",
       "1 C809ED75D6160B2A electric_bike 2021-05-30 11:58:15 2021-05-30 12:10:39\n",
       "2 DD59FDCE0ACACAF3 electric_bike 2021-05-30 11:29:14 2021-05-30 12:14:09\n",
       "3 0AB83CB88C43EFC2 electric_bike 2021-05-30 14:24:01 2021-05-30 14:25:13\n",
       "4 7881AC6D39110C60 electric_bike 2021-05-30 14:25:51 2021-05-30 14:41:04\n",
       "5 853FA701B4582BAF electric_bike 2021-05-30 18:15:39 2021-05-30 18:22:32\n",
       "6 F5E63DFD96B2A737 electric_bike 2021-05-30 11:33:41 2021-05-30 11:57:17\n",
       "  member_casual\n",
       "1 casual       \n",
       "2 casual       \n",
       "3 casual       \n",
       "4 casual       \n",
       "5 casual       \n",
       "6 casual       "
      ]
     },
     "metadata": {},
     "output_type": "display_data"
    }
   ],
   "source": [
    "#I'm going to use the subset() function to delete the columns and assign a new name for my dataframe\n",
    "\n",
    "all_tripdata_clean = subset(all_tripdata, select = -c(start_station_name, start_station_id, end_station_name, end_station_id, start_lat, start_lng, end_lat, end_lng))\n",
    "\n",
    "head(all_tripdata_clean)"
   ]
  },
  {
   "cell_type": "code",
   "execution_count": 8,
   "id": "0dc4f17b",
   "metadata": {
    "execution": {
     "iopub.execute_input": "2022-06-08T06:18:08.660455Z",
     "iopub.status.busy": "2022-06-08T06:18:08.659001Z",
     "iopub.status.idle": "2022-06-08T06:19:20.346769Z",
     "shell.execute_reply": "2022-06-08T06:19:20.345031Z"
    },
    "papermill": {
     "duration": 71.697537,
     "end_time": "2022-06-08T06:19:20.349725",
     "exception": false,
     "start_time": "2022-06-08T06:18:08.652188",
     "status": "completed"
    },
    "tags": []
   },
   "outputs": [],
   "source": [
    "# Next, I'm going to separate the date and time into different columns. \n",
    "# I need to do this so that I am able to identify on which day the rider uses Cyclistic to bring some new insight.\n",
    "\n",
    "all_tripdata_clean$date_started <- as.Date(all_tripdata_clean$started_at)\n",
    "all_tripdata_clean$time_started <- format(as.POSIXct(all_tripdata_clean$started_at), format = \"%H:%M:%S\")\n",
    "all_tripdata_clean$day_started <- format(as.Date(all_tripdata_clean$date_started), \"%A\")\n",
    "\n",
    "\n",
    "all_tripdata_clean$date_ended <- as.Date(all_tripdata_clean$ended_at)\n",
    "all_tripdata_clean$time_ended <- format(as.POSIXct(all_tripdata_clean$ended_at), format = \"%H:%M:%S\")\n",
    "all_tripdata_clean$day_ended <- format(as.Date(all_tripdata_clean$date_ended), \"%A\")"
   ]
  },
  {
   "cell_type": "code",
   "execution_count": 9,
   "id": "a26a2f66",
   "metadata": {
    "execution": {
     "iopub.execute_input": "2022-06-08T06:19:20.365563Z",
     "iopub.status.busy": "2022-06-08T06:19:20.364177Z",
     "iopub.status.idle": "2022-06-08T06:19:22.621043Z",
     "shell.execute_reply": "2022-06-08T06:19:22.619451Z"
    },
    "papermill": {
     "duration": 2.266148,
     "end_time": "2022-06-08T06:19:22.623124",
     "exception": false,
     "start_time": "2022-06-08T06:19:20.356976",
     "status": "completed"
    },
    "tags": []
   },
   "outputs": [
    {
     "data": {
      "text/html": [
       "<table class=\"dataframe\">\n",
       "<caption>A data.frame: 10 × 9</caption>\n",
       "<thead>\n",
       "\t<tr><th></th><th scope=col>ride_id</th><th scope=col>rideable_type</th><th scope=col>member_casual</th><th scope=col>date_started</th><th scope=col>time_started</th><th scope=col>day_started</th><th scope=col>date_ended</th><th scope=col>time_ended</th><th scope=col>day_ended</th></tr>\n",
       "\t<tr><th></th><th scope=col>&lt;chr&gt;</th><th scope=col>&lt;chr&gt;</th><th scope=col>&lt;chr&gt;</th><th scope=col>&lt;date&gt;</th><th scope=col>&lt;chr&gt;</th><th scope=col>&lt;chr&gt;</th><th scope=col>&lt;date&gt;</th><th scope=col>&lt;chr&gt;</th><th scope=col>&lt;chr&gt;</th></tr>\n",
       "</thead>\n",
       "<tbody>\n",
       "\t<tr><th scope=row>1</th><td>C809ED75D6160B2A</td><td>electric_bike</td><td>casual</td><td>2021-05-30</td><td>11:58:15</td><td>Sunday   </td><td>2021-05-30</td><td>12:10:39</td><td>Sunday   </td></tr>\n",
       "\t<tr><th scope=row>2</th><td>DD59FDCE0ACACAF3</td><td>electric_bike</td><td>casual</td><td>2021-05-30</td><td>11:29:14</td><td>Sunday   </td><td>2021-05-30</td><td>12:14:09</td><td>Sunday   </td></tr>\n",
       "\t<tr><th scope=row>3</th><td>0AB83CB88C43EFC2</td><td>electric_bike</td><td>casual</td><td>2021-05-30</td><td>14:24:01</td><td>Sunday   </td><td>2021-05-30</td><td>14:25:13</td><td>Sunday   </td></tr>\n",
       "\t<tr><th scope=row>4</th><td>7881AC6D39110C60</td><td>electric_bike</td><td>casual</td><td>2021-05-30</td><td>14:25:51</td><td>Sunday   </td><td>2021-05-30</td><td>14:41:04</td><td>Sunday   </td></tr>\n",
       "\t<tr><th scope=row>5</th><td>853FA701B4582BAF</td><td>electric_bike</td><td>casual</td><td>2021-05-30</td><td>18:15:39</td><td>Sunday   </td><td>2021-05-30</td><td>18:22:32</td><td>Sunday   </td></tr>\n",
       "\t<tr><th scope=row>6</th><td>F5E63DFD96B2A737</td><td>electric_bike</td><td>casual</td><td>2021-05-30</td><td>11:33:41</td><td>Sunday   </td><td>2021-05-30</td><td>11:57:17</td><td>Sunday   </td></tr>\n",
       "\t<tr><th scope=row>7</th><td>C884951E36656727</td><td>electric_bike</td><td>casual</td><td>2021-05-30</td><td>10:51:37</td><td>Sunday   </td><td>2021-05-30</td><td>11:06:20</td><td>Sunday   </td></tr>\n",
       "\t<tr><th scope=row>8</th><td>48B60B250FE75AF9</td><td>electric_bike</td><td>casual</td><td>2021-05-05</td><td>13:57:03</td><td>Wednesday</td><td>2021-05-05</td><td>14:14:58</td><td>Wednesday</td></tr>\n",
       "\t<tr><th scope=row>9</th><td>E3D0CC2FE1359880</td><td>electric_bike</td><td>casual</td><td>2021-05-05</td><td>11:31:26</td><td>Wednesday</td><td>2021-05-05</td><td>11:34:03</td><td>Wednesday</td></tr>\n",
       "\t<tr><th scope=row>10</th><td>4382735758ABF2CE</td><td>electric_bike</td><td>casual</td><td>2021-05-04</td><td>19:51:05</td><td>Tuesday  </td><td>2021-05-04</td><td>20:17:26</td><td>Tuesday  </td></tr>\n",
       "</tbody>\n",
       "</table>\n"
      ],
      "text/latex": [
       "A data.frame: 10 × 9\n",
       "\\begin{tabular}{r|lllllllll}\n",
       "  & ride\\_id & rideable\\_type & member\\_casual & date\\_started & time\\_started & day\\_started & date\\_ended & time\\_ended & day\\_ended\\\\\n",
       "  & <chr> & <chr> & <chr> & <date> & <chr> & <chr> & <date> & <chr> & <chr>\\\\\n",
       "\\hline\n",
       "\t1 & C809ED75D6160B2A & electric\\_bike & casual & 2021-05-30 & 11:58:15 & Sunday    & 2021-05-30 & 12:10:39 & Sunday   \\\\\n",
       "\t2 & DD59FDCE0ACACAF3 & electric\\_bike & casual & 2021-05-30 & 11:29:14 & Sunday    & 2021-05-30 & 12:14:09 & Sunday   \\\\\n",
       "\t3 & 0AB83CB88C43EFC2 & electric\\_bike & casual & 2021-05-30 & 14:24:01 & Sunday    & 2021-05-30 & 14:25:13 & Sunday   \\\\\n",
       "\t4 & 7881AC6D39110C60 & electric\\_bike & casual & 2021-05-30 & 14:25:51 & Sunday    & 2021-05-30 & 14:41:04 & Sunday   \\\\\n",
       "\t5 & 853FA701B4582BAF & electric\\_bike & casual & 2021-05-30 & 18:15:39 & Sunday    & 2021-05-30 & 18:22:32 & Sunday   \\\\\n",
       "\t6 & F5E63DFD96B2A737 & electric\\_bike & casual & 2021-05-30 & 11:33:41 & Sunday    & 2021-05-30 & 11:57:17 & Sunday   \\\\\n",
       "\t7 & C884951E36656727 & electric\\_bike & casual & 2021-05-30 & 10:51:37 & Sunday    & 2021-05-30 & 11:06:20 & Sunday   \\\\\n",
       "\t8 & 48B60B250FE75AF9 & electric\\_bike & casual & 2021-05-05 & 13:57:03 & Wednesday & 2021-05-05 & 14:14:58 & Wednesday\\\\\n",
       "\t9 & E3D0CC2FE1359880 & electric\\_bike & casual & 2021-05-05 & 11:31:26 & Wednesday & 2021-05-05 & 11:34:03 & Wednesday\\\\\n",
       "\t10 & 4382735758ABF2CE & electric\\_bike & casual & 2021-05-04 & 19:51:05 & Tuesday   & 2021-05-04 & 20:17:26 & Tuesday  \\\\\n",
       "\\end{tabular}\n"
      ],
      "text/markdown": [
       "\n",
       "A data.frame: 10 × 9\n",
       "\n",
       "| <!--/--> | ride_id &lt;chr&gt; | rideable_type &lt;chr&gt; | member_casual &lt;chr&gt; | date_started &lt;date&gt; | time_started &lt;chr&gt; | day_started &lt;chr&gt; | date_ended &lt;date&gt; | time_ended &lt;chr&gt; | day_ended &lt;chr&gt; |\n",
       "|---|---|---|---|---|---|---|---|---|---|\n",
       "| 1 | C809ED75D6160B2A | electric_bike | casual | 2021-05-30 | 11:58:15 | Sunday    | 2021-05-30 | 12:10:39 | Sunday    |\n",
       "| 2 | DD59FDCE0ACACAF3 | electric_bike | casual | 2021-05-30 | 11:29:14 | Sunday    | 2021-05-30 | 12:14:09 | Sunday    |\n",
       "| 3 | 0AB83CB88C43EFC2 | electric_bike | casual | 2021-05-30 | 14:24:01 | Sunday    | 2021-05-30 | 14:25:13 | Sunday    |\n",
       "| 4 | 7881AC6D39110C60 | electric_bike | casual | 2021-05-30 | 14:25:51 | Sunday    | 2021-05-30 | 14:41:04 | Sunday    |\n",
       "| 5 | 853FA701B4582BAF | electric_bike | casual | 2021-05-30 | 18:15:39 | Sunday    | 2021-05-30 | 18:22:32 | Sunday    |\n",
       "| 6 | F5E63DFD96B2A737 | electric_bike | casual | 2021-05-30 | 11:33:41 | Sunday    | 2021-05-30 | 11:57:17 | Sunday    |\n",
       "| 7 | C884951E36656727 | electric_bike | casual | 2021-05-30 | 10:51:37 | Sunday    | 2021-05-30 | 11:06:20 | Sunday    |\n",
       "| 8 | 48B60B250FE75AF9 | electric_bike | casual | 2021-05-05 | 13:57:03 | Wednesday | 2021-05-05 | 14:14:58 | Wednesday |\n",
       "| 9 | E3D0CC2FE1359880 | electric_bike | casual | 2021-05-05 | 11:31:26 | Wednesday | 2021-05-05 | 11:34:03 | Wednesday |\n",
       "| 10 | 4382735758ABF2CE | electric_bike | casual | 2021-05-04 | 19:51:05 | Tuesday   | 2021-05-04 | 20:17:26 | Tuesday   |\n",
       "\n"
      ],
      "text/plain": [
       "   ride_id          rideable_type member_casual date_started time_started\n",
       "1  C809ED75D6160B2A electric_bike casual        2021-05-30   11:58:15    \n",
       "2  DD59FDCE0ACACAF3 electric_bike casual        2021-05-30   11:29:14    \n",
       "3  0AB83CB88C43EFC2 electric_bike casual        2021-05-30   14:24:01    \n",
       "4  7881AC6D39110C60 electric_bike casual        2021-05-30   14:25:51    \n",
       "5  853FA701B4582BAF electric_bike casual        2021-05-30   18:15:39    \n",
       "6  F5E63DFD96B2A737 electric_bike casual        2021-05-30   11:33:41    \n",
       "7  C884951E36656727 electric_bike casual        2021-05-30   10:51:37    \n",
       "8  48B60B250FE75AF9 electric_bike casual        2021-05-05   13:57:03    \n",
       "9  E3D0CC2FE1359880 electric_bike casual        2021-05-05   11:31:26    \n",
       "10 4382735758ABF2CE electric_bike casual        2021-05-04   19:51:05    \n",
       "   day_started date_ended time_ended day_ended\n",
       "1  Sunday      2021-05-30 12:10:39   Sunday   \n",
       "2  Sunday      2021-05-30 12:14:09   Sunday   \n",
       "3  Sunday      2021-05-30 14:25:13   Sunday   \n",
       "4  Sunday      2021-05-30 14:41:04   Sunday   \n",
       "5  Sunday      2021-05-30 18:22:32   Sunday   \n",
       "6  Sunday      2021-05-30 11:57:17   Sunday   \n",
       "7  Sunday      2021-05-30 11:06:20   Sunday   \n",
       "8  Wednesday   2021-05-05 14:14:58   Wednesday\n",
       "9  Wednesday   2021-05-05 11:34:03   Wednesday\n",
       "10 Tuesday     2021-05-04 20:17:26   Tuesday  "
      ]
     },
     "metadata": {},
     "output_type": "display_data"
    }
   ],
   "source": [
    "#Now that we have separate and added new columns, I am going to remove the unused columns to make the dataframe cleaner\n",
    "\n",
    "all_tripdata_clean = subset(all_tripdata_clean, select = -c(started_at, ended_at))\n",
    "\n",
    "head(all_tripdata_clean, 10)"
   ]
  },
  {
   "cell_type": "markdown",
   "id": "1da2dc34",
   "metadata": {
    "papermill": {
     "duration": 0.005522,
     "end_time": "2022-06-08T06:19:22.634100",
     "exception": false,
     "start_time": "2022-06-08T06:19:22.628578",
     "status": "completed"
    },
    "tags": []
   },
   "source": [
    "Coolios! We have now cleaned the dataframe and are ready to go the next step! Let's begin with the analysis."
   ]
  },
  {
   "cell_type": "markdown",
   "id": "be03303e",
   "metadata": {
    "papermill": {
     "duration": 0.005416,
     "end_time": "2022-06-08T06:19:22.644824",
     "exception": false,
     "start_time": "2022-06-08T06:19:22.639408",
     "status": "completed"
    },
    "tags": []
   },
   "source": [
    "## STEP 4 : ANALYSIS\n",
    "\n",
    "In this step, I am going to start analyzing the datas to see **what are the difference between casual riders and members.** But before that I am going to list down few question that comes to mind when I look at the cleaned dataframe.\n",
    "\n",
    "### STEP 1.1 : ASK *(again..)*\n",
    "* Does casual rider prefers electric bike or classic bike in comparison to members?\n",
    "* Does casual rider uses cyclistic more on the weekends or weekdays?\n",
    "* If more on the weekdays, do they use it for work? \n",
    "* If more on the weekends, could it be a part time job? Leisure? Or a hobby?\n",
    "* How many are there for casual riders who have similar behaviors as members but have not yet subscribe to a membership?"
   ]
  },
  {
   "cell_type": "code",
   "execution_count": 10,
   "id": "b91285db",
   "metadata": {
    "execution": {
     "iopub.execute_input": "2022-06-08T06:19:22.658434Z",
     "iopub.status.busy": "2022-06-08T06:19:22.656888Z",
     "iopub.status.idle": "2022-06-08T06:19:22.925944Z",
     "shell.execute_reply": "2022-06-08T06:19:22.923997Z"
    },
    "papermill": {
     "duration": 0.278641,
     "end_time": "2022-06-08T06:19:22.928666",
     "exception": false,
     "start_time": "2022-06-08T06:19:22.650025",
     "status": "completed"
    },
    "tags": []
   },
   "outputs": [
    {
     "data": {
      "text/html": [
       "<table class=\"dataframe\">\n",
       "<caption>A data.frame: 5 × 3</caption>\n",
       "<thead>\n",
       "\t<tr><th scope=col>rideable_type</th><th scope=col>member_casual</th><th scope=col>n</th></tr>\n",
       "\t<tr><th scope=col>&lt;chr&gt;</th><th scope=col>&lt;chr&gt;</th><th scope=col>&lt;int&gt;</th></tr>\n",
       "</thead>\n",
       "<tbody>\n",
       "\t<tr><td>classic_bike </td><td>member</td><td>1968374</td></tr>\n",
       "\t<tr><td>electric_bike</td><td>member</td><td>1252819</td></tr>\n",
       "\t<tr><td>classic_bike </td><td>casual</td><td>1234410</td></tr>\n",
       "\t<tr><td>electric_bike</td><td>casual</td><td>1010557</td></tr>\n",
       "\t<tr><td>docked_bike  </td><td>casual</td><td> 291391</td></tr>\n",
       "</tbody>\n",
       "</table>\n"
      ],
      "text/latex": [
       "A data.frame: 5 × 3\n",
       "\\begin{tabular}{lll}\n",
       " rideable\\_type & member\\_casual & n\\\\\n",
       " <chr> & <chr> & <int>\\\\\n",
       "\\hline\n",
       "\t classic\\_bike  & member & 1968374\\\\\n",
       "\t electric\\_bike & member & 1252819\\\\\n",
       "\t classic\\_bike  & casual & 1234410\\\\\n",
       "\t electric\\_bike & casual & 1010557\\\\\n",
       "\t docked\\_bike   & casual &  291391\\\\\n",
       "\\end{tabular}\n"
      ],
      "text/markdown": [
       "\n",
       "A data.frame: 5 × 3\n",
       "\n",
       "| rideable_type &lt;chr&gt; | member_casual &lt;chr&gt; | n &lt;int&gt; |\n",
       "|---|---|---|\n",
       "| classic_bike  | member | 1968374 |\n",
       "| electric_bike | member | 1252819 |\n",
       "| classic_bike  | casual | 1234410 |\n",
       "| electric_bike | casual | 1010557 |\n",
       "| docked_bike   | casual |  291391 |\n",
       "\n"
      ],
      "text/plain": [
       "  rideable_type member_casual n      \n",
       "1 classic_bike  member        1968374\n",
       "2 electric_bike member        1252819\n",
       "3 classic_bike  casual        1234410\n",
       "4 electric_bike casual        1010557\n",
       "5 docked_bike   casual         291391"
      ]
     },
     "metadata": {},
     "output_type": "display_data"
    }
   ],
   "source": [
    "#For the first analysis, we will have a look at the behavior of members and casual on the selection of ride type\n",
    "\n",
    "tripdata_summary_type <- all_tripdata_clean %>%\n",
    "  count(rideable_type, member_casual, sort = TRUE)\n",
    "\n",
    "\n",
    "View(tripdata_summary_type)"
   ]
  },
  {
   "cell_type": "code",
   "execution_count": 11,
   "id": "1c6c9663",
   "metadata": {
    "execution": {
     "iopub.execute_input": "2022-06-08T06:19:22.944047Z",
     "iopub.status.busy": "2022-06-08T06:19:22.942482Z",
     "iopub.status.idle": "2022-06-08T06:19:36.540294Z",
     "shell.execute_reply": "2022-06-08T06:19:36.537661Z"
    },
    "papermill": {
     "duration": 13.608526,
     "end_time": "2022-06-08T06:19:36.543034",
     "exception": false,
     "start_time": "2022-06-08T06:19:22.934508",
     "status": "completed"
    },
    "tags": []
   },
   "outputs": [
    {
     "data": {
      "image/png": "[encoded data removed]"
     },
     "metadata": {
      "image/png": {
       "height": 420,
       "width": 420
      }
     },
     "output_type": "display_data"
    }
   ],
   "source": [
    "# From the table above we can see that docked type bike are the least favorable and the numbers are small enough to be negligable in this analysis\n",
    "# The following code will filter out docked_type and create a bar chart to make it easier to undestand the comparison\n",
    "\n",
    "all_tripdata_clean %>%\n",
    "\n",
    "filter (rideable_type == \"classic_bike\" | rideable_type == \"electric_bike\") %>%\n",
    "  \n",
    "  ggplot(aes(rideable_type, fill = member_casual)) + geom_bar(position = \"dodge\", alpha = 0.5) +\n",
    "  theme_bw() +\n",
    "  theme(panel.grid.major = element_blank(), panel.grid.minor = element_blank()) +\n",
    "  labs(title = \"Casual/Member against Ride Type\", x = \"Ride Type\", y = \"Number\")"
   ]
  },
  {
   "cell_type": "code",
   "execution_count": 12,
   "id": "5a240373",
   "metadata": {
    "execution": {
     "iopub.execute_input": "2022-06-08T06:19:36.558638Z",
     "iopub.status.busy": "2022-06-08T06:19:36.556974Z",
     "iopub.status.idle": "2022-06-08T06:19:36.805070Z",
     "shell.execute_reply": "2022-06-08T06:19:36.803178Z"
    },
    "papermill": {
     "duration": 0.258556,
     "end_time": "2022-06-08T06:19:36.807762",
     "exception": false,
     "start_time": "2022-06-08T06:19:36.549206",
     "status": "completed"
    },
    "tags": []
   },
   "outputs": [
    {
     "data": {
      "text/html": [
       "<table class=\"dataframe\">\n",
       "<caption>A data.frame: 14 × 3</caption>\n",
       "<thead>\n",
       "\t<tr><th scope=col>day_started</th><th scope=col>member_casual</th><th scope=col>n</th></tr>\n",
       "\t<tr><th scope=col>&lt;chr&gt;</th><th scope=col>&lt;chr&gt;</th><th scope=col>&lt;int&gt;</th></tr>\n",
       "</thead>\n",
       "<tbody>\n",
       "\t<tr><td>Saturday </td><td>casual</td><td>558617</td></tr>\n",
       "\t<tr><td>Wednesday</td><td>member</td><td>506969</td></tr>\n",
       "\t<tr><td>Tuesday  </td><td>member</td><td>498682</td></tr>\n",
       "\t<tr><td>Thursday </td><td>member</td><td>485843</td></tr>\n",
       "\t<tr><td>Sunday   </td><td>casual</td><td>477032</td></tr>\n",
       "\t<tr><td>Friday   </td><td>member</td><td>453281</td></tr>\n",
       "\t<tr><td>Monday   </td><td>member</td><td>445635</td></tr>\n",
       "\t<tr><td>Saturday </td><td>member</td><td>442741</td></tr>\n",
       "\t<tr><td>Sunday   </td><td>member</td><td>388042</td></tr>\n",
       "\t<tr><td>Friday   </td><td>casual</td><td>358203</td></tr>\n",
       "\t<tr><td>Thursday </td><td>casual</td><td>298061</td></tr>\n",
       "\t<tr><td>Monday   </td><td>casual</td><td>289029</td></tr>\n",
       "\t<tr><td>Wednesday</td><td>casual</td><td>284868</td></tr>\n",
       "\t<tr><td>Tuesday  </td><td>casual</td><td>270548</td></tr>\n",
       "</tbody>\n",
       "</table>\n"
      ],
      "text/latex": [
       "A data.frame: 14 × 3\n",
       "\\begin{tabular}{lll}\n",
       " day\\_started & member\\_casual & n\\\\\n",
       " <chr> & <chr> & <int>\\\\\n",
       "\\hline\n",
       "\t Saturday  & casual & 558617\\\\\n",
       "\t Wednesday & member & 506969\\\\\n",
       "\t Tuesday   & member & 498682\\\\\n",
       "\t Thursday  & member & 485843\\\\\n",
       "\t Sunday    & casual & 477032\\\\\n",
       "\t Friday    & member & 453281\\\\\n",
       "\t Monday    & member & 445635\\\\\n",
       "\t Saturday  & member & 442741\\\\\n",
       "\t Sunday    & member & 388042\\\\\n",
       "\t Friday    & casual & 358203\\\\\n",
       "\t Thursday  & casual & 298061\\\\\n",
       "\t Monday    & casual & 289029\\\\\n",
       "\t Wednesday & casual & 284868\\\\\n",
       "\t Tuesday   & casual & 270548\\\\\n",
       "\\end{tabular}\n"
      ],
      "text/markdown": [
       "\n",
       "A data.frame: 14 × 3\n",
       "\n",
       "| day_started &lt;chr&gt; | member_casual &lt;chr&gt; | n &lt;int&gt; |\n",
       "|---|---|---|\n",
       "| Saturday  | casual | 558617 |\n",
       "| Wednesday | member | 506969 |\n",
       "| Tuesday   | member | 498682 |\n",
       "| Thursday  | member | 485843 |\n",
       "| Sunday    | casual | 477032 |\n",
       "| Friday    | member | 453281 |\n",
       "| Monday    | member | 445635 |\n",
       "| Saturday  | member | 442741 |\n",
       "| Sunday    | member | 388042 |\n",
       "| Friday    | casual | 358203 |\n",
       "| Thursday  | casual | 298061 |\n",
       "| Monday    | casual | 289029 |\n",
       "| Wednesday | casual | 284868 |\n",
       "| Tuesday   | casual | 270548 |\n",
       "\n"
      ],
      "text/plain": [
       "   day_started member_casual n     \n",
       "1  Saturday    casual        558617\n",
       "2  Wednesday   member        506969\n",
       "3  Tuesday     member        498682\n",
       "4  Thursday    member        485843\n",
       "5  Sunday      casual        477032\n",
       "6  Friday      member        453281\n",
       "7  Monday      member        445635\n",
       "8  Saturday    member        442741\n",
       "9  Sunday      member        388042\n",
       "10 Friday      casual        358203\n",
       "11 Thursday    casual        298061\n",
       "12 Monday      casual        289029\n",
       "13 Wednesday   casual        284868\n",
       "14 Tuesday     casual        270548"
      ]
     },
     "metadata": {},
     "output_type": "display_data"
    }
   ],
   "source": [
    "#I am going to create a new dataframe to summarize the number of users between casual and members according to days of the week.\n",
    "#We will then use the new dataframe to create our vissualization\n",
    "\n",
    "\n",
    "tripdata_summary_day <- all_tripdata_clean %>%\n",
    "  count(day_started, member_casual, sort = TRUE)\n",
    "\n",
    "\n",
    "View(tripdata_summary_day)"
   ]
  },
  {
   "cell_type": "code",
   "execution_count": 13,
   "id": "6068c7df",
   "metadata": {
    "execution": {
     "iopub.execute_input": "2022-06-08T06:19:36.823374Z",
     "iopub.status.busy": "2022-06-08T06:19:36.821773Z",
     "iopub.status.idle": "2022-06-08T06:19:37.241089Z",
     "shell.execute_reply": "2022-06-08T06:19:37.238409Z"
    },
    "papermill": {
     "duration": 0.429747,
     "end_time": "2022-06-08T06:19:37.243881",
     "exception": false,
     "start_time": "2022-06-08T06:19:36.814134",
     "status": "completed"
    },
    "tags": []
   },
   "outputs": [
    {
     "data": {
      "image/png": "[encoded data removed]"
     },
     "metadata": {
      "image/png": {
       "height": 420,
       "width": 420
      }
     },
     "output_type": "display_data"
    }
   ],
   "source": [
    "tripdata_summary_day %>%\n",
    "\n",
    "ggplot (aes(factor(day_started, levels = c(\"Sunday\", \"Monday\", \"Tuesday\", \"Wednesday\", \"Thursday\", \"Friday\", \"Saturday\")), member_casual))+\n",
    "geom_point(aes(size = n,\n",
    "               color = member_casual))+\n",
    "theme_bw() +\n",
    "theme(panel.grid.major = element_blank(), panel.grid.minor = element_blank()) +\n",
    "  labs(title = \"Casual/Member Usage against Days of the Week\", x = \"\", y = \"Number\")"
   ]
  },
  {
   "cell_type": "markdown",
   "id": "93ff9be7",
   "metadata": {
    "papermill": {
     "duration": 0.006924,
     "end_time": "2022-06-08T06:19:37.257940",
     "exception": false,
     "start_time": "2022-06-08T06:19:37.251016",
     "status": "completed"
    },
    "tags": []
   },
   "source": [
    "### Analysis:\n",
    "\n",
    "* From the first graph we can see that casual users and members share the same interest in rideable type which is the Classic Bike\n",
    "* From the same graph we can also see that more users prefers the Classic bike in comparison to the Electric Bike\n",
    "* From the second graph, casual users are more inclined to use Cyclistic during the weekends instead of weekdays\n",
    "* For members, we can see that the usage are more stagnant throughout the week. \n",
    "* This may indicate that most of casual users only use Cylistic for leisure, while members uses Cyclistic as their mode for transportation"
   ]
  },
  {
   "cell_type": "markdown",
   "id": "99360cb7",
   "metadata": {
    "papermill": {
     "duration": 0.006828,
     "end_time": "2022-06-08T06:19:37.271754",
     "exception": false,
     "start_time": "2022-06-08T06:19:37.264926",
     "status": "completed"
    },
    "tags": []
   },
   "source": [
    "## STEP 5 : SHARE\n",
    "\n",
    "Finally, we can share this new insight to the marketing team for them come out with a new marketing strategy. The new marketing strategy should include:\n",
    "1. Push the market for Classic Ride for casual users to gain more traction for membership registration\n",
    "2. Introduce new perks or packages for weekend users in order to convert more casual user into membership\n",
    "3. Focus on the number of casual users on the weekend, they uses Cyclistic for leisure. Provide competitions or such for members which will attract more casual user to get membership.\n"
   ]
  },
  {
   "cell_type": "markdown",
   "id": "374d470c",
   "metadata": {
    "papermill": {
     "duration": 0.006858,
     "end_time": "2022-06-08T06:19:37.285948",
     "exception": false,
     "start_time": "2022-06-08T06:19:37.279090",
     "status": "completed"
    },
    "tags": []
   },
   "source": [
    "## THANK YOU\n",
    "\n",
    "I know this case study can be too simple with only two visualisation provided but this is the best I can do within one week timeframe (Limited to only an hour or two a day, with zero R knowledge on day 1). I've seen so many other analysis which are more extensive than mine that really makes me eager to learn more! I might use this very same case study again or find a new dataset to create more analysis and data visualisation.\n",
    "\n",
    "**Thank you so much if you read through this notebook.**"
   ]
  }
 ],
 "metadata": {
  "kernelspec": {
   "display_name": "R",
   "language": "R",
   "name": "ir"
  },
  "language_info": {
   "codemirror_mode": "r",
   "file_extension": ".r",
   "mimetype": "text/x-r-source",
   "name": "R",
   "pygments_lexer": "r",
   "version": "4.0.5"
  },
  "papermill": {
   "default_parameters": {},
   "duration": 216.357328,
   "end_time": "2022-06-08T06:19:37.716334",
   "environment_variables": {},
   "exception": null,
   "input_path": "__notebook__.ipynb",
   "output_path": "__notebook__.ipynb",
   "parameters": {},
   "start_time": "2022-06-08T06:16:01.359006",
   "version": "2.3.4"
  }
 },
 "nbformat": 4,
 "nbformat_minor": 5
}
